{
  "nbformat": 4,
  "nbformat_minor": 0,
  "metadata": {
    "colab": {
      "provenance": [],
      "authorship_tag": "ABX9TyOJaaxh9gzPH/T8qH1NjQXr",
      "include_colab_link": true
    },
    "kernelspec": {
      "name": "python3",
      "display_name": "Python 3"
    },
    "language_info": {
      "name": "python"
    }
  },
  "cells": [
    {
      "cell_type": "markdown",
      "metadata": {
        "id": "view-in-github",
        "colab_type": "text"
      },
      "source": [
        "<a href=\"https://colab.research.google.com/github/Sai-krishna-33/CODSOFT/blob/main/SCT_guess_game_02.ipynb\" target=\"_parent\"><img src=\"https://colab.research.google.com/assets/colab-badge.svg\" alt=\"Open In Colab\"/></a>"
      ]
    },
    {
      "cell_type": "code",
      "execution_count": 3,
      "metadata": {
        "colab": {
          "base_uri": "https://localhost:8080/"
        },
        "id": "tKcVneT5lI06",
        "outputId": "bb02b642-ed75-4ae5-c529-feec4d13afa4"
      },
      "outputs": [
        {
          "output_type": "stream",
          "name": "stdout",
          "text": [
            "🎯 Welcome to the Number Guessing Game!\n",
            "I'm thinking of a number between 1 and 100.\n",
            "Enter your guess: 40\n",
            "🔻 Too low. Try again!\n",
            "Enter your guess: 50\n",
            "🔻 Too low. Try again!\n",
            "Enter your guess: 99\n",
            "🔺 Too high. Try again!\n",
            "Enter your guess: 69\n",
            "🔺 Too high. Try again!\n",
            "Enter your guess: 50\n",
            "🔻 Too low. Try again!\n",
            "Enter your guess: 55\n",
            "🔻 Too low. Try again!\n",
            "Enter your guess: 59\n",
            "🔻 Too low. Try again!\n",
            "Enter your guess: 60\n",
            "🔻 Too low. Try again!\n",
            "Enter your guess: 76\n",
            "🔺 Too high. Try again!\n",
            "Enter your guess: 75\n",
            "🔺 Too high. Try again!\n",
            "Enter your guess: 74\n",
            "🔺 Too high. Try again!\n",
            "Enter your guess: 73\n",
            "🔺 Too high. Try again!\n",
            "Enter your guess: 72\n",
            "🔺 Too high. Try again!\n",
            "Enter your guess: 71\n",
            "🔺 Too high. Try again!\n",
            "Enter your guess: 70\n",
            "🔺 Too high. Try again!\n",
            "Enter your guess: 69\n",
            "🔺 Too high. Try again!\n",
            "Enter your guess: 68\n",
            "🔺 Too high. Try again!\n",
            "Enter your guess: 67\n",
            "✅ Congratulations! You guessed it in 18 attempt(s).\n"
          ]
        }
      ],
      "source": [
        "import random\n",
        "\n",
        "print(\"🎯 Welcome to the Number Guessing Game!\")\n",
        "print(\"I'm thinking of a number between 1 and 100.\")\n",
        "\n",
        "# Step 1: Generate a random number\n",
        "secret_number = random.randint(1, 100)\n",
        "\n",
        "# Step 2: Initialize attempt counter\n",
        "attempts = 0\n",
        "\n",
        "# Step 3: Loop until the user guesses correctly\n",
        "while True:\n",
        "    try:\n",
        "        guess = int(input(\"Enter your guess: \"))\n",
        "        attempts += 1\n",
        "\n",
        "        if guess < secret_number:\n",
        "            print(\"🔻 Too low. Try again!\")\n",
        "        elif guess > secret_number:\n",
        "            print(\"🔺 Too high. Try again!\")\n",
        "        else:\n",
        "            print(f\"✅ Congratulations! You guessed it in {attempts} attempt(s).\")\n",
        "            break\n",
        "    except ValueError:\n",
        "        print(\"❌ Invalid input. Please enter a number.\")\n",
        "\n"
      ]
    }
  ]
}